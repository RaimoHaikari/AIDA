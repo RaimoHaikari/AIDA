{
 "cells": [
  {
   "cell_type": "markdown",
   "metadata": {},
   "source": [
    "# EDA (Exploratory data analysis)\n",
    "\n",
    "Sisältää mm.\n",
    "\n",
    "- identtisten tietueiden etsiminen\n",
    "\n",
    "JAMK examples #3: 03_eda_sales\n",
    "\n",
    "Ladataan käytettävät paketit."
   ]
  },
  {
   "cell_type": "code",
   "execution_count": 1,
   "metadata": {},
   "outputs": [],
   "source": [
    "import matplotlib.pyplot as plt\n",
    "import pandas as pd\n",
    "import seaborn as sns"
   ]
  },
  {
   "cell_type": "markdown",
   "metadata": {},
   "source": [
    "Luetaan aineisto:"
   ]
  },
  {
   "cell_type": "code",
   "execution_count": 2,
   "metadata": {},
   "outputs": [
    {
     "data": {
      "text/html": [
       "<div>\n",
       "<style scoped>\n",
       "    .dataframe tbody tr th:only-of-type {\n",
       "        vertical-align: middle;\n",
       "    }\n",
       "\n",
       "    .dataframe tbody tr th {\n",
       "        vertical-align: top;\n",
       "    }\n",
       "\n",
       "    .dataframe thead th {\n",
       "        text-align: right;\n",
       "    }\n",
       "</style>\n",
       "<table border=\"1\" class=\"dataframe\">\n",
       "  <thead>\n",
       "    <tr style=\"text-align: right;\">\n",
       "      <th></th>\n",
       "      <th>date</th>\n",
       "      <th>category</th>\n",
       "      <th>sales</th>\n",
       "      <th>price</th>\n",
       "      <th>customer_age</th>\n",
       "      <th>customer_gender</th>\n",
       "    </tr>\n",
       "  </thead>\n",
       "  <tbody>\n",
       "    <tr>\n",
       "      <th>0</th>\n",
       "      <td>2023-02-18</td>\n",
       "      <td>Clothing</td>\n",
       "      <td>17</td>\n",
       "      <td>65.53</td>\n",
       "      <td>31</td>\n",
       "      <td>Male</td>\n",
       "    </tr>\n",
       "    <tr>\n",
       "      <th>1</th>\n",
       "      <td>2023-05-26</td>\n",
       "      <td>Books</td>\n",
       "      <td>18</td>\n",
       "      <td>431.78</td>\n",
       "      <td>26</td>\n",
       "      <td>NaN</td>\n",
       "    </tr>\n",
       "    <tr>\n",
       "      <th>2</th>\n",
       "      <td>2023-02-17</td>\n",
       "      <td>Books</td>\n",
       "      <td>15</td>\n",
       "      <td>400.98</td>\n",
       "      <td>31</td>\n",
       "      <td>Female</td>\n",
       "    </tr>\n",
       "    <tr>\n",
       "      <th>3</th>\n",
       "      <td>2023-05-20</td>\n",
       "      <td>Monitors</td>\n",
       "      <td>15</td>\n",
       "      <td>142.19</td>\n",
       "      <td>37</td>\n",
       "      <td>NaN</td>\n",
       "    </tr>\n",
       "    <tr>\n",
       "      <th>4</th>\n",
       "      <td>2023-03-31</td>\n",
       "      <td>Monitors</td>\n",
       "      <td>10</td>\n",
       "      <td>399.28</td>\n",
       "      <td>45</td>\n",
       "      <td>NaN</td>\n",
       "    </tr>\n",
       "  </tbody>\n",
       "</table>\n",
       "</div>"
      ],
      "text/plain": [
       "         date  category  sales   price  customer_age customer_gender\n",
       "0  2023-02-18  Clothing     17   65.53            31            Male\n",
       "1  2023-05-26     Books     18  431.78            26             NaN\n",
       "2  2023-02-17     Books     15  400.98            31          Female\n",
       "3  2023-05-20  Monitors     15  142.19            37             NaN\n",
       "4  2023-03-31  Monitors     10  399.28            45             NaN"
      ]
     },
     "execution_count": 2,
     "metadata": {},
     "output_type": "execute_result"
    }
   ],
   "source": [
    "csvUrl = \"https://raw.githubusercontent.com/RaimoHaikari/paikkatieto/master/misc/sales_data.csv\"\n",
    "df = pd.read_csv(csvUrl)\n",
    "\n",
    "df.head()"
   ]
  },
  {
   "cell_type": "code",
   "execution_count": 3,
   "metadata": {},
   "outputs": [
    {
     "data": {
      "text/plain": [
       "date                object\n",
       "category            object\n",
       "sales                int64\n",
       "price              float64\n",
       "customer_age         int64\n",
       "customer_gender     object\n",
       "dtype: object"
      ]
     },
     "execution_count": 3,
     "metadata": {},
     "output_type": "execute_result"
    }
   ],
   "source": [
    "df.dtypes"
   ]
  },
  {
   "cell_type": "markdown",
   "metadata": {},
   "source": [
    "### Aineiston esikäsittely\n",
    "\n",
    "Tiputetaan NA -arvoja sisältävät tietueet."
   ]
  },
  {
   "cell_type": "code",
   "execution_count": 4,
   "metadata": {},
   "outputs": [
    {
     "name": "stdout",
     "output_type": "stream",
     "text": [
      "Number of rows in data: date               556\n",
      "category           556\n",
      "sales              556\n",
      "price              556\n",
      "customer_age       556\n",
      "customer_gender    556\n",
      "dtype: int64\n"
     ]
    }
   ],
   "source": [
    "# Handle missing values\n",
    "df = df.dropna()\n",
    "print(f\"Number of rows in data: {df.count()}\")"
   ]
  },
  {
   "cell_type": "markdown",
   "metadata": {},
   "source": [
    "Muunnetaan:\n",
    "\n",
    "- **date** aikaleimaksi.\n",
    "- **customer_age** kokonaisluvuksi"
   ]
  },
  {
   "cell_type": "code",
   "execution_count": 5,
   "metadata": {},
   "outputs": [],
   "source": [
    "# Convert data types\n",
    "df['date'] = pd.to_datetime(df['date'])\n",
    "df['customer_age'] = df['customer_age'].astype(int)"
   ]
  },
  {
   "cell_type": "markdown",
   "metadata": {},
   "source": [
    "### Tupla-rivit\n",
    "\n",
    "Päällekkäisiä tietueita voi etsiä [duplicated -metodin](https://pandas.pydata.org/docs/reference/api/pandas.DataFrame.duplicated.html) avulla.\n",
    "\n",
    "Parametrien avulla voidaan määrittää:\n",
    "\n",
    "- huomioitavat sarakeet (oletuksena kaikki)\n",
    "- päällekkäistä tietoa löydettäessä, mitä tietuetta pidetään päällekkäisenä: ensimmäistä-, viimeistä- vaiko kaikkia samoja arvoja sisältäviä\n",
    "\n",
    "Aineisto ei taida aivan täysin identtisiä rivejä sisältää, mutta testataan käskyä osittaista aineistoa käyttäen."
   ]
  },
  {
   "cell_type": "code",
   "execution_count": 6,
   "metadata": {},
   "outputs": [
    {
     "data": {
      "text/html": [
       "<div>\n",
       "<style scoped>\n",
       "    .dataframe tbody tr th:only-of-type {\n",
       "        vertical-align: middle;\n",
       "    }\n",
       "\n",
       "    .dataframe tbody tr th {\n",
       "        vertical-align: top;\n",
       "    }\n",
       "\n",
       "    .dataframe thead th {\n",
       "        text-align: right;\n",
       "    }\n",
       "</style>\n",
       "<table border=\"1\" class=\"dataframe\">\n",
       "  <thead>\n",
       "    <tr style=\"text-align: right;\">\n",
       "      <th></th>\n",
       "      <th>date</th>\n",
       "      <th>category</th>\n",
       "      <th>sales</th>\n",
       "      <th>price</th>\n",
       "      <th>customer_age</th>\n",
       "      <th>customer_gender</th>\n",
       "    </tr>\n",
       "  </thead>\n",
       "  <tbody>\n",
       "    <tr>\n",
       "      <th>16</th>\n",
       "      <td>2023-03-09</td>\n",
       "      <td>Monitors</td>\n",
       "      <td>12</td>\n",
       "      <td>201.80</td>\n",
       "      <td>61</td>\n",
       "      <td>Male</td>\n",
       "    </tr>\n",
       "    <tr>\n",
       "      <th>185</th>\n",
       "      <td>2023-03-09</td>\n",
       "      <td>Monitors</td>\n",
       "      <td>12</td>\n",
       "      <td>81.85</td>\n",
       "      <td>61</td>\n",
       "      <td>Male</td>\n",
       "    </tr>\n",
       "    <tr>\n",
       "      <th>269</th>\n",
       "      <td>2023-05-24</td>\n",
       "      <td>Books</td>\n",
       "      <td>11</td>\n",
       "      <td>471.93</td>\n",
       "      <td>32</td>\n",
       "      <td>Male</td>\n",
       "    </tr>\n",
       "    <tr>\n",
       "      <th>493</th>\n",
       "      <td>2023-06-26</td>\n",
       "      <td>Computers</td>\n",
       "      <td>13</td>\n",
       "      <td>72.09</td>\n",
       "      <td>45</td>\n",
       "      <td>Male</td>\n",
       "    </tr>\n",
       "    <tr>\n",
       "      <th>729</th>\n",
       "      <td>2023-06-26</td>\n",
       "      <td>Computers</td>\n",
       "      <td>13</td>\n",
       "      <td>63.86</td>\n",
       "      <td>45</td>\n",
       "      <td>Male</td>\n",
       "    </tr>\n",
       "    <tr>\n",
       "      <th>767</th>\n",
       "      <td>2023-05-24</td>\n",
       "      <td>Books</td>\n",
       "      <td>15</td>\n",
       "      <td>283.48</td>\n",
       "      <td>32</td>\n",
       "      <td>Male</td>\n",
       "    </tr>\n",
       "  </tbody>\n",
       "</table>\n",
       "</div>"
      ],
      "text/plain": [
       "          date   category  sales   price  customer_age customer_gender\n",
       "16  2023-03-09   Monitors     12  201.80            61            Male\n",
       "185 2023-03-09   Monitors     12   81.85            61            Male\n",
       "269 2023-05-24      Books     11  471.93            32            Male\n",
       "493 2023-06-26  Computers     13   72.09            45            Male\n",
       "729 2023-06-26  Computers     13   63.86            45            Male\n",
       "767 2023-05-24      Books     15  283.48            32            Male"
      ]
     },
     "execution_count": 6,
     "metadata": {},
     "output_type": "execute_result"
    }
   ],
   "source": [
    "indices = df.duplicated(subset=['date', 'category','customer_age','customer_gender'], keep = False)\n",
    "df.loc[indices]"
   ]
  },
  {
   "cell_type": "markdown",
   "metadata": {},
   "source": [
    "Ajetaan (kuitenkin) mahdolliset tuplatietueet poistava käsky."
   ]
  },
  {
   "cell_type": "code",
   "execution_count": 7,
   "metadata": {},
   "outputs": [],
   "source": [
    "# Remove duplicates\n",
    "df = df.drop_duplicates()"
   ]
  },
  {
   "cell_type": "markdown",
   "metadata": {},
   "source": [
    "## Poikkeusarvojen käsittely.\n",
    "\n",
    "Määritetään, että kaikki 95 %:n kvantiilin ylittäviä myyntimääriä pidetään poikkeuksellisen suurina (outlier). Korvataan tällaiset arvot aineiston mediaalia vastaavalla arvolla.\n",
    "\n",
    "Pandas [quantile()-funktio](https://pandas.pydata.org/docs/reference/api/pandas.DataFrame.quantile.html) palauttaa määritettyä kvantiilia vastavan arvon."
   ]
  },
  {
   "cell_type": "code",
   "execution_count": 11,
   "metadata": {},
   "outputs": [],
   "source": [
    "threshold = df['sales'].quantile(0.95)\n",
    "df.loc[df['sales'] > threshold, 'sales'] = df['sales'].median()"
   ]
  },
  {
   "cell_type": "markdown",
   "metadata": {},
   "source": [
    "## Toiminnon suorittaminen sarakkeelle\n",
    "\n",
    "Päivitetään sukupuolen kertovan sarakkeen arvot lyhyempään muotoon. Tämä saadaan kätevästi aikaan [map()-funktion](https://pandas.pydata.org/docs/reference/api/pandas.Series.map.html) avulla. Sama onnistuisi myös esim. [replace()-funktiota](https://pandas.pydata.org/docs/reference/api/pandas.Series.replace.html) käyttäen.\n",
    "\n",
    "Map-funktion kanssa voi käyttää niin kirjastoa kuin lambda-funktiota."
   ]
  },
  {
   "cell_type": "code",
   "execution_count": 13,
   "metadata": {},
   "outputs": [],
   "source": [
    "df['customer_gender'] = df['customer_gender'].map({'Male': 'M', 'Female': 'F'})"
   ]
  },
  {
   "cell_type": "markdown",
   "metadata": {},
   "source": [
    "## Ryhmittely\n",
    "\n",
    "Lasketaan tuoteryhmien kokonaismyynnit ja  keskihinnat. Tehtävä onnistuu esim. [groupby()-funktiota](https://pandas.pydata.org/docs/reference/api/pandas.Series.groupby.html) käyttäen."
   ]
  },
  {
   "cell_type": "code",
   "execution_count": 15,
   "metadata": {},
   "outputs": [],
   "source": [
    "# Calculate total sales by product category\n",
    "sales_by_category = df.groupby('category')['sales'].sum()\n",
    "\n",
    "# Calculate mean prices by product category\n",
    "mean_prices_by_category = df.groupby('category')['price'].mean()"
   ]
  },
  {
   "cell_type": "markdown",
   "metadata": {},
   "source": [
    "Tulostetaan tuoteryhmien kokonaismyyntejä visualisoiva pylväsdiagrammi."
   ]
  },
  {
   "cell_type": "code",
   "execution_count": 19,
   "metadata": {},
   "outputs": [
    {
     "data": {
      "image/png": "[encoded data removed]",
      "text/plain": [
       "<Figure size 1000x600 with 1 Axes>"
      ]
     },
     "metadata": {},
     "output_type": "display_data"
    }
   ],
   "source": [
    "# Visualize sales by category\n",
    "plt.figure(figsize=(10, 6))\n",
    "sns.barplot(x=sales_by_category.index, y=sales_by_category.values)\n",
    "plt.xlabel('Product Category')\n",
    "plt.ylabel('Total Sales')\n",
    "plt.title('Total Sales by Product Category')\n",
    "plt.show()"
   ]
  },
  {
   "cell_type": "markdown",
   "metadata": {},
   "source": [
    "Sekä tuoteryhmien myyntien keskihintaa kuvaava pylväskaavio."
   ]
  },
  {
   "cell_type": "code",
   "execution_count": 20,
   "metadata": {},
   "outputs": [
    {
     "data": {
      "image/png": "[encoded data removed]",
      "text/plain": [
       "<Figure size 1000x600 with 1 Axes>"
      ]
     },
     "metadata": {},
     "output_type": "display_data"
    }
   ],
   "source": [
    "# Visualize mean sales by category\n",
    "plt.figure(figsize=(10, 6))\n",
    "sns.barplot(x=mean_prices_by_category.index, y=mean_prices_by_category.values)\n",
    "plt.xlabel('Product Category')\n",
    "plt.ylabel('Mean Prices')\n",
    "plt.title('Mean Prices by Product Category')\n",
    "plt.show()"
   ]
  },
  {
   "cell_type": "markdown",
   "metadata": {},
   "source": [
    "Seuraavaksi tulostetaan tuotteiden hinnan ja myyntimäärän yhteyttä kuvaava hajontakuvio. \n",
    "\n",
    "(Joka ei kyllä kerro yhtään mitään)"
   ]
  },
  {
   "cell_type": "code",
   "execution_count": null,
   "metadata": {},
   "outputs": [],
   "source": [
    "# Explore the relationship between price and sales\n",
    "plt.figure(figsize=(8, 6))\n",
    "sns.scatterplot(x='price', y='sales', data=df)\n",
    "plt.xlabel('Price')\n",
    "plt.ylabel('Sales')\n",
    "plt.title('Relationship between Price and Sales')\n",
    "plt.show()"
   ]
  },
  {
   "cell_type": "markdown",
   "metadata": {},
   "source": [
    "Lopuksi asiakkaiden ikäjakaumaa kuvaava histogrammi, jossa pylväät ovat jaoteltu sukupuolen mukaan. \n",
    "\n",
    "Esitystapa toimiin paremmin pylväissä alimpana esitettävän luokan kanssa."
   ]
  },
  {
   "cell_type": "code",
   "execution_count": 23,
   "metadata": {},
   "outputs": [
    {
     "data": {
      "image/png": "[encoded data removed]",
      "text/plain": [
       "<Figure size 800x600 with 1 Axes>"
      ]
     },
     "metadata": {},
     "output_type": "display_data"
    }
   ],
   "source": [
    "\n",
    "# Analyze customer demographics\n",
    "plt.figure(figsize=(8, 6))\n",
    "sns.histplot(data=df, x='customer_age', hue='customer_gender', multiple='stack')\n",
    "plt.xlabel('Customer Age')\n",
    "plt.ylabel('Count')\n",
    "plt.title('Customer Age Distribution by Gender')\n",
    "plt.show()"
   ]
  }
 ],
 "metadata": {
  "kernelspec": {
   "display_name": "Python 3",
   "language": "python",
   "name": "python3"
  },
  "language_info": {
   "codemirror_mode": {
    "name": "ipython",
    "version": 3
   },
   "file_extension": ".py",
   "mimetype": "text/x-python",
   "name": "python",
   "nbconvert_exporter": "python",
   "pygments_lexer": "ipython3",
   "version": "3.9.7"
  },
  "orig_nbformat": 4
 },
 "nbformat": 4,
 "nbformat_minor": 2
}
