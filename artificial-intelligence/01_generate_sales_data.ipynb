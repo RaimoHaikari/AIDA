{
  "nbformat": 4,
  "nbformat_minor": 0,
  "metadata": {
    "colab": {
      "provenance": [],
      "toc_visible": true
    },
    "kernelspec": {
      "name": "python3",
      "display_name": "Python 3"
    },
    "language_info": {
      "name": "python"
    }
  },
  "cells": [
    {
      "cell_type": "markdown",
      "source": [
        "JAMK examples #1: 01_generate_sales_data\n",
        "\n",
        "Ladataan käytettävät paketit."
      ],
      "metadata": {
        "id": "17o0nI5BfqPE"
      }
    },
    {
      "cell_type": "code",
      "execution_count": null,
      "metadata": {
        "id": "qkt2jc3XfioA"
      },
      "outputs": [],
      "source": [
        "import random\n",
        "from datetime import datetime, timedelta\n",
        "\n",
        "import numpy as np\n",
        "import pandas as pd"
      ]
    },
    {
      "cell_type": "markdown",
      "source": [
        "Suoritetaan seuraavat toimepiteet:\n",
        "\n",
        "- Asetetaan satunnaismuuttujan siemenluku.\n",
        "- Määriteään tietueiden lukumäärä"
      ],
      "metadata": {
        "id": "lUbHSULvgXyv"
      }
    },
    {
      "cell_type": "code",
      "source": [
        "# Set random seed for reproducibility\n",
        "random.seed(42)\n",
        "# Define the number of rows in the dataset\n",
        "num_rows = 1000"
      ],
      "metadata": {
        "id": "-M1LhJgTgrGR"
      },
      "execution_count": null,
      "outputs": []
    },
    {
      "cell_type": "markdown",
      "source": [
        "Lisäksi aineistossa käytettävät tuoteryhmät ja avauspäivämäärä."
      ],
      "metadata": {
        "id": "Py5I8bGPjsYf"
      }
    },
    {
      "cell_type": "code",
      "source": [
        "categories = ['Phones', 'Clothing', 'Books', 'Computers', 'Monitors', np.nan]\n",
        "start_date = datetime(2023, 1, 1)"
      ],
      "metadata": {
        "id": "H8dIWssyj7Qs"
      },
      "execution_count": null,
      "outputs": []
    },
    {
      "cell_type": "markdown",
      "source": [
        "Luodaan aineisto arpomalla sarakkeiden tietotyyppien mukaisia arvoja"
      ],
      "metadata": {
        "id": "3-kl04kgkK2s"
      }
    },
    {
      "cell_type": "code",
      "source": [
        "data = {\n",
        "    'date': [start_date + timedelta(days=random.randint(0, 180)) for _ in range(num_rows)],\n",
        "    'category': [random.choice(categories) for _ in range(num_rows)],\n",
        "    'sales': [random.randint(1, 20) for _ in range(num_rows)],\n",
        "    'price': [round(random.uniform(1, 500), 2) for _ in range(num_rows)],\n",
        "    'customer_age': [random.randint(18, 65) for _ in range(num_rows)],\n",
        "    'customer_gender': [random.choice(['Male', 'Female', np.nan]) for _ in range(num_rows)]\n",
        "}\n",
        "# Create a DataFrame from the generated data\n",
        "df = pd.DataFrame(data)"
      ],
      "metadata": {
        "id": "6ScW8YKKkJ57"
      },
      "execution_count": null,
      "outputs": []
    },
    {
      "cell_type": "markdown",
      "source": [
        "Talletetaan aineisto lopuksi."
      ],
      "metadata": {
        "id": "OBITbrYDm-Hx"
      }
    },
    {
      "cell_type": "code",
      "source": [
        "# Save the DataFrame as a CSV file\n",
        "df.to_csv('sales_data.csv', index=False)"
      ],
      "metadata": {
        "id": "OpWjx6tskPcu"
      },
      "execution_count": null,
      "outputs": []
    }
  ]
}